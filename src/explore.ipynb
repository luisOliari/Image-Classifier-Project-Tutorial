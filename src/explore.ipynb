{
    "cells": [
        {
            "cell_type": "markdown",
            "metadata": {},
            "source": [
                "***Image Classifier Project***"
            ]
        },
        {
            "cell_type": "code",
            "execution_count": 4,
            "metadata": {},
            "outputs": [
                {
                    "name": "stdout",
                    "output_type": "stream",
                    "text": [
                        "Requirement already satisfied: sqlalchemy==1.4.37 in /home/gitpod/.pyenv/versions/3.8.13/lib/python3.8/site-packages (from -r ../requirements.txt (line 2)) (1.4.37)\n",
                        "Requirement already satisfied: pymysql==1.0.2 in /home/gitpod/.pyenv/versions/3.8.13/lib/python3.8/site-packages (from -r ../requirements.txt (line 3)) (1.0.2)\n",
                        "Requirement already satisfied: pandas==1.4.2 in /home/gitpod/.pyenv/versions/3.8.13/lib/python3.8/site-packages (from -r ../requirements.txt (line 4)) (1.4.2)\n",
                        "Requirement already satisfied: python-dotenv==0.20.0 in /home/gitpod/.pyenv/versions/3.8.13/lib/python3.8/site-packages (from -r ../requirements.txt (line 5)) (0.20.0)\n",
                        "Requirement already satisfied: psycopg2-binary==2.9.3 in /home/gitpod/.pyenv/versions/3.8.13/lib/python3.8/site-packages (from -r ../requirements.txt (line 6)) (2.9.3)\n",
                        "Requirement already satisfied: requests==2.27.1 in /home/gitpod/.pyenv/versions/3.8.13/lib/python3.8/site-packages (from -r ../requirements.txt (line 7)) (2.27.1)\n",
                        "Requirement already satisfied: numpy>=1.18.5 in /home/gitpod/.pyenv/versions/3.8.13/lib/python3.8/site-packages (from -r ../requirements.txt (line 9)) (1.23.1)\n",
                        "Requirement already satisfied: opencv-python>=4.1.2 in /home/gitpod/.pyenv/versions/3.8.13/lib/python3.8/site-packages (from -r ../requirements.txt (line 10)) (4.6.0.66)\n",
                        "Requirement already satisfied: matplotlib>=3.2.2 in /home/gitpod/.pyenv/versions/3.8.13/lib/python3.8/site-packages (from -r ../requirements.txt (line 11)) (3.5.2)\n",
                        "Requirement already satisfied: ipyleaflet>=0.14.0 in /home/gitpod/.pyenv/versions/3.8.13/lib/python3.8/site-packages (from -r ../requirements.txt (line 12)) (0.17.0)\n",
                        "Requirement already satisfied: sympy>=1.10.1 in /home/gitpod/.pyenv/versions/3.8.13/lib/python3.8/site-packages (from -r ../requirements.txt (line 13)) (1.10.1)\n",
                        "Requirement already satisfied: sklearn in /home/gitpod/.pyenv/versions/3.8.13/lib/python3.8/site-packages (from -r ../requirements.txt (line 16)) (0.0)\n",
                        "Requirement already satisfied: greenlet!=0.4.17 in /home/gitpod/.pyenv/versions/3.8.13/lib/python3.8/site-packages (from sqlalchemy==1.4.37->-r ../requirements.txt (line 2)) (1.1.2)\n",
                        "Requirement already satisfied: python-dateutil>=2.8.1 in /home/gitpod/.pyenv/versions/3.8.13/lib/python3.8/site-packages (from pandas==1.4.2->-r ../requirements.txt (line 4)) (2.8.2)\n",
                        "Requirement already satisfied: pytz>=2020.1 in /home/gitpod/.pyenv/versions/3.8.13/lib/python3.8/site-packages (from pandas==1.4.2->-r ../requirements.txt (line 4)) (2022.1)\n",
                        "Requirement already satisfied: charset-normalizer~=2.0.0 in /home/gitpod/.pyenv/versions/3.8.13/lib/python3.8/site-packages (from requests==2.27.1->-r ../requirements.txt (line 7)) (2.0.12)\n",
                        "Requirement already satisfied: urllib3<1.27,>=1.21.1 in /home/gitpod/.pyenv/versions/3.8.13/lib/python3.8/site-packages (from requests==2.27.1->-r ../requirements.txt (line 7)) (1.26.11)\n",
                        "Requirement already satisfied: certifi>=2017.4.17 in /home/gitpod/.pyenv/versions/3.8.13/lib/python3.8/site-packages (from requests==2.27.1->-r ../requirements.txt (line 7)) (2022.6.15)\n",
                        "Requirement already satisfied: idna<4,>=2.5 in /home/gitpod/.pyenv/versions/3.8.13/lib/python3.8/site-packages (from requests==2.27.1->-r ../requirements.txt (line 7)) (3.3)\n",
                        "Requirement already satisfied: kiwisolver>=1.0.1 in /home/gitpod/.pyenv/versions/3.8.13/lib/python3.8/site-packages (from matplotlib>=3.2.2->-r ../requirements.txt (line 11)) (1.4.4)\n",
                        "Requirement already satisfied: fonttools>=4.22.0 in /home/gitpod/.pyenv/versions/3.8.13/lib/python3.8/site-packages (from matplotlib>=3.2.2->-r ../requirements.txt (line 11)) (4.34.4)\n",
                        "Requirement already satisfied: pillow>=6.2.0 in /home/gitpod/.pyenv/versions/3.8.13/lib/python3.8/site-packages (from matplotlib>=3.2.2->-r ../requirements.txt (line 11)) (9.2.0)\n",
                        "Requirement already satisfied: pyparsing>=2.2.1 in /home/gitpod/.pyenv/versions/3.8.13/lib/python3.8/site-packages (from matplotlib>=3.2.2->-r ../requirements.txt (line 11)) (3.0.9)\n",
                        "Requirement already satisfied: packaging>=20.0 in /home/gitpod/.pyenv/versions/3.8.13/lib/python3.8/site-packages (from matplotlib>=3.2.2->-r ../requirements.txt (line 11)) (21.3)\n",
                        "Requirement already satisfied: cycler>=0.10 in /home/gitpod/.pyenv/versions/3.8.13/lib/python3.8/site-packages (from matplotlib>=3.2.2->-r ../requirements.txt (line 11)) (0.11.0)\n",
                        "Requirement already satisfied: xyzservices>=2021.8.1 in /home/gitpod/.pyenv/versions/3.8.13/lib/python3.8/site-packages (from ipyleaflet>=0.14.0->-r ../requirements.txt (line 12)) (2022.6.0)\n",
                        "Requirement already satisfied: traittypes<3,>=0.2.1 in /home/gitpod/.pyenv/versions/3.8.13/lib/python3.8/site-packages (from ipyleaflet>=0.14.0->-r ../requirements.txt (line 12)) (0.2.1)\n",
                        "Requirement already satisfied: ipywidgets<8,>=7.6.0 in /home/gitpod/.pyenv/versions/3.8.13/lib/python3.8/site-packages (from ipyleaflet>=0.14.0->-r ../requirements.txt (line 12)) (7.7.1)\n",
                        "Requirement already satisfied: mpmath>=0.19 in /home/gitpod/.pyenv/versions/3.8.13/lib/python3.8/site-packages (from sympy>=1.10.1->-r ../requirements.txt (line 13)) (1.2.1)\n",
                        "Requirement already satisfied: scikit-learn in /home/gitpod/.pyenv/versions/3.8.13/lib/python3.8/site-packages (from sklearn->-r ../requirements.txt (line 16)) (1.1.2)\n",
                        "Requirement already satisfied: ipykernel>=4.5.1 in /home/gitpod/.pyenv/versions/3.8.13/lib/python3.8/site-packages (from ipywidgets<8,>=7.6.0->ipyleaflet>=0.14.0->-r ../requirements.txt (line 12)) (6.15.1)\n",
                        "Requirement already satisfied: ipython>=4.0.0 in /home/gitpod/.pyenv/versions/3.8.13/lib/python3.8/site-packages (from ipywidgets<8,>=7.6.0->ipyleaflet>=0.14.0->-r ../requirements.txt (line 12)) (8.4.0)\n",
                        "Requirement already satisfied: widgetsnbextension~=3.6.0 in /home/gitpod/.pyenv/versions/3.8.13/lib/python3.8/site-packages (from ipywidgets<8,>=7.6.0->ipyleaflet>=0.14.0->-r ../requirements.txt (line 12)) (3.6.1)\n",
                        "Requirement already satisfied: ipython-genutils~=0.2.0 in /home/gitpod/.pyenv/versions/3.8.13/lib/python3.8/site-packages (from ipywidgets<8,>=7.6.0->ipyleaflet>=0.14.0->-r ../requirements.txt (line 12)) (0.2.0)\n",
                        "Requirement already satisfied: jupyterlab-widgets>=1.0.0 in /home/gitpod/.pyenv/versions/3.8.13/lib/python3.8/site-packages (from ipywidgets<8,>=7.6.0->ipyleaflet>=0.14.0->-r ../requirements.txt (line 12)) (1.1.1)\n",
                        "Requirement already satisfied: traitlets>=4.3.1 in /home/gitpod/.pyenv/versions/3.8.13/lib/python3.8/site-packages (from ipywidgets<8,>=7.6.0->ipyleaflet>=0.14.0->-r ../requirements.txt (line 12)) (5.3.0)\n",
                        "Requirement already satisfied: six>=1.5 in /home/gitpod/.pyenv/versions/3.8.13/lib/python3.8/site-packages (from python-dateutil>=2.8.1->pandas==1.4.2->-r ../requirements.txt (line 4)) (1.16.0)\n",
                        "Requirement already satisfied: scipy>=1.3.2 in /home/gitpod/.pyenv/versions/3.8.13/lib/python3.8/site-packages (from scikit-learn->sklearn->-r ../requirements.txt (line 16)) (1.9.0)\n",
                        "Requirement already satisfied: joblib>=1.0.0 in /home/gitpod/.pyenv/versions/3.8.13/lib/python3.8/site-packages (from scikit-learn->sklearn->-r ../requirements.txt (line 16)) (1.1.0)\n",
                        "Requirement already satisfied: threadpoolctl>=2.0.0 in /home/gitpod/.pyenv/versions/3.8.13/lib/python3.8/site-packages (from scikit-learn->sklearn->-r ../requirements.txt (line 16)) (3.1.0)\n",
                        "Requirement already satisfied: pyzmq>=17 in /home/gitpod/.pyenv/versions/3.8.13/lib/python3.8/site-packages (from ipykernel>=4.5.1->ipywidgets<8,>=7.6.0->ipyleaflet>=0.14.0->-r ../requirements.txt (line 12)) (23.2.0)\n",
                        "Requirement already satisfied: tornado>=6.1 in /home/gitpod/.pyenv/versions/3.8.13/lib/python3.8/site-packages (from ipykernel>=4.5.1->ipywidgets<8,>=7.6.0->ipyleaflet>=0.14.0->-r ../requirements.txt (line 12)) (6.2)\n",
                        "Requirement already satisfied: nest-asyncio in /home/gitpod/.pyenv/versions/3.8.13/lib/python3.8/site-packages (from ipykernel>=4.5.1->ipywidgets<8,>=7.6.0->ipyleaflet>=0.14.0->-r ../requirements.txt (line 12)) (1.5.5)\n",
                        "Requirement already satisfied: debugpy>=1.0 in /home/gitpod/.pyenv/versions/3.8.13/lib/python3.8/site-packages (from ipykernel>=4.5.1->ipywidgets<8,>=7.6.0->ipyleaflet>=0.14.0->-r ../requirements.txt (line 12)) (1.6.2)\n",
                        "Requirement already satisfied: psutil in /home/gitpod/.pyenv/versions/3.8.13/lib/python3.8/site-packages (from ipykernel>=4.5.1->ipywidgets<8,>=7.6.0->ipyleaflet>=0.14.0->-r ../requirements.txt (line 12)) (5.9.1)\n",
                        "Requirement already satisfied: jupyter-client>=6.1.12 in /home/gitpod/.pyenv/versions/3.8.13/lib/python3.8/site-packages (from ipykernel>=4.5.1->ipywidgets<8,>=7.6.0->ipyleaflet>=0.14.0->-r ../requirements.txt (line 12)) (7.3.4)\n",
                        "Requirement already satisfied: matplotlib-inline>=0.1 in /home/gitpod/.pyenv/versions/3.8.13/lib/python3.8/site-packages (from ipykernel>=4.5.1->ipywidgets<8,>=7.6.0->ipyleaflet>=0.14.0->-r ../requirements.txt (line 12)) (0.1.3)\n",
                        "Requirement already satisfied: pexpect>4.3 in /home/gitpod/.pyenv/versions/3.8.13/lib/python3.8/site-packages (from ipython>=4.0.0->ipywidgets<8,>=7.6.0->ipyleaflet>=0.14.0->-r ../requirements.txt (line 12)) (4.8.0)\n",
                        "Requirement already satisfied: pygments>=2.4.0 in /home/gitpod/.pyenv/versions/3.8.13/lib/python3.8/site-packages (from ipython>=4.0.0->ipywidgets<8,>=7.6.0->ipyleaflet>=0.14.0->-r ../requirements.txt (line 12)) (2.12.0)\n",
                        "Requirement already satisfied: prompt-toolkit!=3.0.0,!=3.0.1,<3.1.0,>=2.0.0 in /home/gitpod/.pyenv/versions/3.8.13/lib/python3.8/site-packages (from ipython>=4.0.0->ipywidgets<8,>=7.6.0->ipyleaflet>=0.14.0->-r ../requirements.txt (line 12)) (3.0.30)\n",
                        "Requirement already satisfied: pickleshare in /home/gitpod/.pyenv/versions/3.8.13/lib/python3.8/site-packages (from ipython>=4.0.0->ipywidgets<8,>=7.6.0->ipyleaflet>=0.14.0->-r ../requirements.txt (line 12)) (0.7.5)\n",
                        "Requirement already satisfied: setuptools>=18.5 in /home/gitpod/.pyenv/versions/3.8.13/lib/python3.8/site-packages (from ipython>=4.0.0->ipywidgets<8,>=7.6.0->ipyleaflet>=0.14.0->-r ../requirements.txt (line 12)) (63.2.0)\n",
                        "Requirement already satisfied: jedi>=0.16 in /home/gitpod/.pyenv/versions/3.8.13/lib/python3.8/site-packages (from ipython>=4.0.0->ipywidgets<8,>=7.6.0->ipyleaflet>=0.14.0->-r ../requirements.txt (line 12)) (0.18.1)\n",
                        "Requirement already satisfied: backcall in /home/gitpod/.pyenv/versions/3.8.13/lib/python3.8/site-packages (from ipython>=4.0.0->ipywidgets<8,>=7.6.0->ipyleaflet>=0.14.0->-r ../requirements.txt (line 12)) (0.2.0)\n",
                        "Requirement already satisfied: stack-data in /home/gitpod/.pyenv/versions/3.8.13/lib/python3.8/site-packages (from ipython>=4.0.0->ipywidgets<8,>=7.6.0->ipyleaflet>=0.14.0->-r ../requirements.txt (line 12)) (0.3.0)\n",
                        "Requirement already satisfied: decorator in /home/gitpod/.pyenv/versions/3.8.13/lib/python3.8/site-packages (from ipython>=4.0.0->ipywidgets<8,>=7.6.0->ipyleaflet>=0.14.0->-r ../requirements.txt (line 12)) (5.1.1)\n",
                        "Requirement already satisfied: notebook>=4.4.1 in /home/gitpod/.pyenv/versions/3.8.13/lib/python3.8/site-packages (from widgetsnbextension~=3.6.0->ipywidgets<8,>=7.6.0->ipyleaflet>=0.14.0->-r ../requirements.txt (line 12)) (6.4.12)\n",
                        "Requirement already satisfied: parso<0.9.0,>=0.8.0 in /home/gitpod/.pyenv/versions/3.8.13/lib/python3.8/site-packages (from jedi>=0.16->ipython>=4.0.0->ipywidgets<8,>=7.6.0->ipyleaflet>=0.14.0->-r ../requirements.txt (line 12)) (0.8.3)\n",
                        "Requirement already satisfied: jupyter-core>=4.9.2 in /home/gitpod/.pyenv/versions/3.8.13/lib/python3.8/site-packages (from jupyter-client>=6.1.12->ipykernel>=4.5.1->ipywidgets<8,>=7.6.0->ipyleaflet>=0.14.0->-r ../requirements.txt (line 12)) (4.11.1)\n",
                        "Requirement already satisfied: entrypoints in /home/gitpod/.pyenv/versions/3.8.13/lib/python3.8/site-packages (from jupyter-client>=6.1.12->ipykernel>=4.5.1->ipywidgets<8,>=7.6.0->ipyleaflet>=0.14.0->-r ../requirements.txt (line 12)) (0.4)\n",
                        "Requirement already satisfied: Send2Trash>=1.8.0 in /home/gitpod/.pyenv/versions/3.8.13/lib/python3.8/site-packages (from notebook>=4.4.1->widgetsnbextension~=3.6.0->ipywidgets<8,>=7.6.0->ipyleaflet>=0.14.0->-r ../requirements.txt (line 12)) (1.8.0)\n",
                        "Requirement already satisfied: nbconvert>=5 in /home/gitpod/.pyenv/versions/3.8.13/lib/python3.8/site-packages (from notebook>=4.4.1->widgetsnbextension~=3.6.0->ipywidgets<8,>=7.6.0->ipyleaflet>=0.14.0->-r ../requirements.txt (line 12)) (6.5.0)\n",
                        "Requirement already satisfied: prometheus-client in /home/gitpod/.pyenv/versions/3.8.13/lib/python3.8/site-packages (from notebook>=4.4.1->widgetsnbextension~=3.6.0->ipywidgets<8,>=7.6.0->ipyleaflet>=0.14.0->-r ../requirements.txt (line 12)) (0.14.1)\n",
                        "Requirement already satisfied: nbformat in /home/gitpod/.pyenv/versions/3.8.13/lib/python3.8/site-packages (from notebook>=4.4.1->widgetsnbextension~=3.6.0->ipywidgets<8,>=7.6.0->ipyleaflet>=0.14.0->-r ../requirements.txt (line 12)) (5.4.0)\n",
                        "Requirement already satisfied: terminado>=0.8.3 in /home/gitpod/.pyenv/versions/3.8.13/lib/python3.8/site-packages (from notebook>=4.4.1->widgetsnbextension~=3.6.0->ipywidgets<8,>=7.6.0->ipyleaflet>=0.14.0->-r ../requirements.txt (line 12)) (0.15.0)\n",
                        "Requirement already satisfied: argon2-cffi in /home/gitpod/.pyenv/versions/3.8.13/lib/python3.8/site-packages (from notebook>=4.4.1->widgetsnbextension~=3.6.0->ipywidgets<8,>=7.6.0->ipyleaflet>=0.14.0->-r ../requirements.txt (line 12)) (21.3.0)\n",
                        "Requirement already satisfied: jinja2 in /home/gitpod/.pyenv/versions/3.8.13/lib/python3.8/site-packages (from notebook>=4.4.1->widgetsnbextension~=3.6.0->ipywidgets<8,>=7.6.0->ipyleaflet>=0.14.0->-r ../requirements.txt (line 12)) (3.1.2)\n",
                        "Requirement already satisfied: ptyprocess>=0.5 in /home/gitpod/.pyenv/versions/3.8.13/lib/python3.8/site-packages (from pexpect>4.3->ipython>=4.0.0->ipywidgets<8,>=7.6.0->ipyleaflet>=0.14.0->-r ../requirements.txt (line 12)) (0.7.0)\n",
                        "Requirement already satisfied: wcwidth in /home/gitpod/.pyenv/versions/3.8.13/lib/python3.8/site-packages (from prompt-toolkit!=3.0.0,!=3.0.1,<3.1.0,>=2.0.0->ipython>=4.0.0->ipywidgets<8,>=7.6.0->ipyleaflet>=0.14.0->-r ../requirements.txt (line 12)) (0.2.5)\n",
                        "Requirement already satisfied: executing in /home/gitpod/.pyenv/versions/3.8.13/lib/python3.8/site-packages (from stack-data->ipython>=4.0.0->ipywidgets<8,>=7.6.0->ipyleaflet>=0.14.0->-r ../requirements.txt (line 12)) (0.9.0)\n",
                        "Requirement already satisfied: pure-eval in /home/gitpod/.pyenv/versions/3.8.13/lib/python3.8/site-packages (from stack-data->ipython>=4.0.0->ipywidgets<8,>=7.6.0->ipyleaflet>=0.14.0->-r ../requirements.txt (line 12)) (0.2.2)\n",
                        "Requirement already satisfied: asttokens in /home/gitpod/.pyenv/versions/3.8.13/lib/python3.8/site-packages (from stack-data->ipython>=4.0.0->ipywidgets<8,>=7.6.0->ipyleaflet>=0.14.0->-r ../requirements.txt (line 12)) (2.0.5)\n",
                        "Requirement already satisfied: beautifulsoup4 in /home/gitpod/.pyenv/versions/3.8.13/lib/python3.8/site-packages (from nbconvert>=5->notebook>=4.4.1->widgetsnbextension~=3.6.0->ipywidgets<8,>=7.6.0->ipyleaflet>=0.14.0->-r ../requirements.txt (line 12)) (4.11.1)\n",
                        "Requirement already satisfied: jupyterlab-pygments in /home/gitpod/.pyenv/versions/3.8.13/lib/python3.8/site-packages (from nbconvert>=5->notebook>=4.4.1->widgetsnbextension~=3.6.0->ipywidgets<8,>=7.6.0->ipyleaflet>=0.14.0->-r ../requirements.txt (line 12)) (0.2.2)\n",
                        "Requirement already satisfied: mistune<2,>=0.8.1 in /home/gitpod/.pyenv/versions/3.8.13/lib/python3.8/site-packages (from nbconvert>=5->notebook>=4.4.1->widgetsnbextension~=3.6.0->ipywidgets<8,>=7.6.0->ipyleaflet>=0.14.0->-r ../requirements.txt (line 12)) (0.8.4)\n",
                        "Requirement already satisfied: defusedxml in /home/gitpod/.pyenv/versions/3.8.13/lib/python3.8/site-packages (from nbconvert>=5->notebook>=4.4.1->widgetsnbextension~=3.6.0->ipywidgets<8,>=7.6.0->ipyleaflet>=0.14.0->-r ../requirements.txt (line 12)) (0.7.1)\n",
                        "Requirement already satisfied: MarkupSafe>=2.0 in /home/gitpod/.pyenv/versions/3.8.13/lib/python3.8/site-packages (from nbconvert>=5->notebook>=4.4.1->widgetsnbextension~=3.6.0->ipywidgets<8,>=7.6.0->ipyleaflet>=0.14.0->-r ../requirements.txt (line 12)) (2.1.1)\n",
                        "Requirement already satisfied: nbclient>=0.5.0 in /home/gitpod/.pyenv/versions/3.8.13/lib/python3.8/site-packages (from nbconvert>=5->notebook>=4.4.1->widgetsnbextension~=3.6.0->ipywidgets<8,>=7.6.0->ipyleaflet>=0.14.0->-r ../requirements.txt (line 12)) (0.6.6)\n",
                        "Requirement already satisfied: tinycss2 in /home/gitpod/.pyenv/versions/3.8.13/lib/python3.8/site-packages (from nbconvert>=5->notebook>=4.4.1->widgetsnbextension~=3.6.0->ipywidgets<8,>=7.6.0->ipyleaflet>=0.14.0->-r ../requirements.txt (line 12)) (1.1.1)\n",
                        "Requirement already satisfied: bleach in /home/gitpod/.pyenv/versions/3.8.13/lib/python3.8/site-packages (from nbconvert>=5->notebook>=4.4.1->widgetsnbextension~=3.6.0->ipywidgets<8,>=7.6.0->ipyleaflet>=0.14.0->-r ../requirements.txt (line 12)) (5.0.1)\n",
                        "Requirement already satisfied: pandocfilters>=1.4.1 in /home/gitpod/.pyenv/versions/3.8.13/lib/python3.8/site-packages (from nbconvert>=5->notebook>=4.4.1->widgetsnbextension~=3.6.0->ipywidgets<8,>=7.6.0->ipyleaflet>=0.14.0->-r ../requirements.txt (line 12)) (1.5.0)\n",
                        "Requirement already satisfied: jsonschema>=2.6 in /home/gitpod/.pyenv/versions/3.8.13/lib/python3.8/site-packages (from nbformat->notebook>=4.4.1->widgetsnbextension~=3.6.0->ipywidgets<8,>=7.6.0->ipyleaflet>=0.14.0->-r ../requirements.txt (line 12)) (4.7.2)\n",
                        "Requirement already satisfied: fastjsonschema in /home/gitpod/.pyenv/versions/3.8.13/lib/python3.8/site-packages (from nbformat->notebook>=4.4.1->widgetsnbextension~=3.6.0->ipywidgets<8,>=7.6.0->ipyleaflet>=0.14.0->-r ../requirements.txt (line 12)) (2.16.1)\n",
                        "Requirement already satisfied: argon2-cffi-bindings in /home/gitpod/.pyenv/versions/3.8.13/lib/python3.8/site-packages (from argon2-cffi->notebook>=4.4.1->widgetsnbextension~=3.6.0->ipywidgets<8,>=7.6.0->ipyleaflet>=0.14.0->-r ../requirements.txt (line 12)) (21.2.0)\n",
                        "Requirement already satisfied: pyrsistent!=0.17.0,!=0.17.1,!=0.17.2,>=0.14.0 in /home/gitpod/.pyenv/versions/3.8.13/lib/python3.8/site-packages (from jsonschema>=2.6->nbformat->notebook>=4.4.1->widgetsnbextension~=3.6.0->ipywidgets<8,>=7.6.0->ipyleaflet>=0.14.0->-r ../requirements.txt (line 12)) (0.18.1)\n",
                        "Requirement already satisfied: importlib-resources>=1.4.0 in /home/gitpod/.pyenv/versions/3.8.13/lib/python3.8/site-packages (from jsonschema>=2.6->nbformat->notebook>=4.4.1->widgetsnbextension~=3.6.0->ipywidgets<8,>=7.6.0->ipyleaflet>=0.14.0->-r ../requirements.txt (line 12)) (5.9.0)\n",
                        "Requirement already satisfied: attrs>=17.4.0 in /home/gitpod/.pyenv/versions/3.8.13/lib/python3.8/site-packages (from jsonschema>=2.6->nbformat->notebook>=4.4.1->widgetsnbextension~=3.6.0->ipywidgets<8,>=7.6.0->ipyleaflet>=0.14.0->-r ../requirements.txt (line 12)) (21.4.0)\n",
                        "Requirement already satisfied: cffi>=1.0.1 in /home/gitpod/.pyenv/versions/3.8.13/lib/python3.8/site-packages (from argon2-cffi-bindings->argon2-cffi->notebook>=4.4.1->widgetsnbextension~=3.6.0->ipywidgets<8,>=7.6.0->ipyleaflet>=0.14.0->-r ../requirements.txt (line 12)) (1.15.1)\n",
                        "Requirement already satisfied: soupsieve>1.2 in /home/gitpod/.pyenv/versions/3.8.13/lib/python3.8/site-packages (from beautifulsoup4->nbconvert>=5->notebook>=4.4.1->widgetsnbextension~=3.6.0->ipywidgets<8,>=7.6.0->ipyleaflet>=0.14.0->-r ../requirements.txt (line 12)) (2.3.2.post1)\n",
                        "Requirement already satisfied: webencodings in /home/gitpod/.pyenv/versions/3.8.13/lib/python3.8/site-packages (from bleach->nbconvert>=5->notebook>=4.4.1->widgetsnbextension~=3.6.0->ipywidgets<8,>=7.6.0->ipyleaflet>=0.14.0->-r ../requirements.txt (line 12)) (0.5.1)\n",
                        "Requirement already satisfied: pycparser in /home/gitpod/.pyenv/versions/3.8.13/lib/python3.8/site-packages (from cffi>=1.0.1->argon2-cffi-bindings->argon2-cffi->notebook>=4.4.1->widgetsnbextension~=3.6.0->ipywidgets<8,>=7.6.0->ipyleaflet>=0.14.0->-r ../requirements.txt (line 12)) (2.21)\n",
                        "Requirement already satisfied: zipp>=3.1.0 in /home/gitpod/.pyenv/versions/3.8.13/lib/python3.8/site-packages (from importlib-resources>=1.4.0->jsonschema>=2.6->nbformat->notebook>=4.4.1->widgetsnbextension~=3.6.0->ipywidgets<8,>=7.6.0->ipyleaflet>=0.14.0->-r ../requirements.txt (line 12)) (3.8.1)\n",
                        "\n",
                        "\u001b[1m[\u001b[0m\u001b[34;49mnotice\u001b[0m\u001b[1;39;49m]\u001b[0m\u001b[39;49m A new release of pip available: \u001b[0m\u001b[31;49m22.2\u001b[0m\u001b[39;49m -> \u001b[0m\u001b[32;49m22.2.2\u001b[0m\n",
                        "\u001b[1m[\u001b[0m\u001b[34;49mnotice\u001b[0m\u001b[1;39;49m]\u001b[0m\u001b[39;49m To update, run: \u001b[0m\u001b[32;49mpip install --upgrade pip\u001b[0m\n",
                        "Note: you may need to restart the kernel to use updated packages.\n",
                        "Requirement already satisfied: scipy in /home/gitpod/.pyenv/versions/3.8.13/lib/python3.8/site-packages (1.9.0)\n",
                        "Requirement already satisfied: tensorflow in /home/gitpod/.pyenv/versions/3.8.13/lib/python3.8/site-packages (2.9.1)\n",
                        "Requirement already satisfied: numpy<1.25.0,>=1.18.5 in /home/gitpod/.pyenv/versions/3.8.13/lib/python3.8/site-packages (from scipy) (1.23.1)\n",
                        "Requirement already satisfied: six>=1.12.0 in /home/gitpod/.pyenv/versions/3.8.13/lib/python3.8/site-packages (from tensorflow) (1.16.0)\n",
                        "Requirement already satisfied: termcolor>=1.1.0 in /home/gitpod/.pyenv/versions/3.8.13/lib/python3.8/site-packages (from tensorflow) (1.1.0)\n",
                        "Requirement already satisfied: h5py>=2.9.0 in /home/gitpod/.pyenv/versions/3.8.13/lib/python3.8/site-packages (from tensorflow) (3.7.0)\n",
                        "Requirement already satisfied: keras<2.10.0,>=2.9.0rc0 in /home/gitpod/.pyenv/versions/3.8.13/lib/python3.8/site-packages (from tensorflow) (2.9.0)\n",
                        "Requirement already satisfied: keras-preprocessing>=1.1.1 in /home/gitpod/.pyenv/versions/3.8.13/lib/python3.8/site-packages (from tensorflow) (1.1.2)\n",
                        "Requirement already satisfied: gast<=0.4.0,>=0.2.1 in /home/gitpod/.pyenv/versions/3.8.13/lib/python3.8/site-packages (from tensorflow) (0.4.0)\n",
                        "Requirement already satisfied: tensorflow-io-gcs-filesystem>=0.23.1 in /home/gitpod/.pyenv/versions/3.8.13/lib/python3.8/site-packages (from tensorflow) (0.26.0)\n",
                        "Requirement already satisfied: protobuf<3.20,>=3.9.2 in /home/gitpod/.pyenv/versions/3.8.13/lib/python3.8/site-packages (from tensorflow) (3.19.4)\n",
                        "Requirement already satisfied: grpcio<2.0,>=1.24.3 in /home/gitpod/.pyenv/versions/3.8.13/lib/python3.8/site-packages (from tensorflow) (1.47.0)\n",
                        "Requirement already satisfied: typing-extensions>=3.6.6 in /home/gitpod/.pyenv/versions/3.8.13/lib/python3.8/site-packages (from tensorflow) (4.3.0)\n",
                        "Requirement already satisfied: wrapt>=1.11.0 in /home/gitpod/.pyenv/versions/3.8.13/lib/python3.8/site-packages (from tensorflow) (1.14.1)\n",
                        "Requirement already satisfied: flatbuffers<2,>=1.12 in /home/gitpod/.pyenv/versions/3.8.13/lib/python3.8/site-packages (from tensorflow) (1.12)\n",
                        "Requirement already satisfied: packaging in /home/gitpod/.pyenv/versions/3.8.13/lib/python3.8/site-packages (from tensorflow) (21.3)\n",
                        "Requirement already satisfied: tensorflow-estimator<2.10.0,>=2.9.0rc0 in /home/gitpod/.pyenv/versions/3.8.13/lib/python3.8/site-packages (from tensorflow) (2.9.0)\n",
                        "Requirement already satisfied: google-pasta>=0.1.1 in /home/gitpod/.pyenv/versions/3.8.13/lib/python3.8/site-packages (from tensorflow) (0.2.0)\n",
                        "Requirement already satisfied: absl-py>=1.0.0 in /home/gitpod/.pyenv/versions/3.8.13/lib/python3.8/site-packages (from tensorflow) (1.2.0)\n",
                        "Requirement already satisfied: libclang>=13.0.0 in /home/gitpod/.pyenv/versions/3.8.13/lib/python3.8/site-packages (from tensorflow) (14.0.6)\n",
                        "Requirement already satisfied: astunparse>=1.6.0 in /home/gitpod/.pyenv/versions/3.8.13/lib/python3.8/site-packages (from tensorflow) (1.6.3)\n",
                        "Requirement already satisfied: opt-einsum>=2.3.2 in /home/gitpod/.pyenv/versions/3.8.13/lib/python3.8/site-packages (from tensorflow) (3.3.0)\n",
                        "Requirement already satisfied: tensorboard<2.10,>=2.9 in /home/gitpod/.pyenv/versions/3.8.13/lib/python3.8/site-packages (from tensorflow) (2.9.1)\n",
                        "Requirement already satisfied: setuptools in /home/gitpod/.pyenv/versions/3.8.13/lib/python3.8/site-packages (from tensorflow) (63.2.0)\n",
                        "Requirement already satisfied: wheel<1.0,>=0.23.0 in /home/gitpod/.pyenv/versions/3.8.13/lib/python3.8/site-packages (from astunparse>=1.6.0->tensorflow) (0.37.1)\n",
                        "Requirement already satisfied: tensorboard-plugin-wit>=1.6.0 in /home/gitpod/.pyenv/versions/3.8.13/lib/python3.8/site-packages (from tensorboard<2.10,>=2.9->tensorflow) (1.8.1)\n",
                        "Requirement already satisfied: tensorboard-data-server<0.7.0,>=0.6.0 in /home/gitpod/.pyenv/versions/3.8.13/lib/python3.8/site-packages (from tensorboard<2.10,>=2.9->tensorflow) (0.6.1)\n",
                        "Requirement already satisfied: google-auth<3,>=1.6.3 in /home/gitpod/.pyenv/versions/3.8.13/lib/python3.8/site-packages (from tensorboard<2.10,>=2.9->tensorflow) (2.10.0)\n",
                        "Requirement already satisfied: requests<3,>=2.21.0 in /home/gitpod/.pyenv/versions/3.8.13/lib/python3.8/site-packages (from tensorboard<2.10,>=2.9->tensorflow) (2.27.1)\n",
                        "Requirement already satisfied: google-auth-oauthlib<0.5,>=0.4.1 in /home/gitpod/.pyenv/versions/3.8.13/lib/python3.8/site-packages (from tensorboard<2.10,>=2.9->tensorflow) (0.4.6)\n",
                        "Requirement already satisfied: werkzeug>=1.0.1 in /home/gitpod/.pyenv/versions/3.8.13/lib/python3.8/site-packages (from tensorboard<2.10,>=2.9->tensorflow) (2.2.1)\n",
                        "Requirement already satisfied: markdown>=2.6.8 in /home/gitpod/.pyenv/versions/3.8.13/lib/python3.8/site-packages (from tensorboard<2.10,>=2.9->tensorflow) (3.4.1)\n",
                        "Requirement already satisfied: pyparsing!=3.0.5,>=2.0.2 in /home/gitpod/.pyenv/versions/3.8.13/lib/python3.8/site-packages (from packaging->tensorflow) (3.0.9)\n",
                        "Requirement already satisfied: cachetools<6.0,>=2.0.0 in /home/gitpod/.pyenv/versions/3.8.13/lib/python3.8/site-packages (from google-auth<3,>=1.6.3->tensorboard<2.10,>=2.9->tensorflow) (5.2.0)\n",
                        "Requirement already satisfied: rsa<5,>=3.1.4 in /home/gitpod/.pyenv/versions/3.8.13/lib/python3.8/site-packages (from google-auth<3,>=1.6.3->tensorboard<2.10,>=2.9->tensorflow) (4.9)\n",
                        "Requirement already satisfied: pyasn1-modules>=0.2.1 in /home/gitpod/.pyenv/versions/3.8.13/lib/python3.8/site-packages (from google-auth<3,>=1.6.3->tensorboard<2.10,>=2.9->tensorflow) (0.2.8)\n",
                        "Requirement already satisfied: requests-oauthlib>=0.7.0 in /home/gitpod/.pyenv/versions/3.8.13/lib/python3.8/site-packages (from google-auth-oauthlib<0.5,>=0.4.1->tensorboard<2.10,>=2.9->tensorflow) (1.3.1)\n",
                        "Requirement already satisfied: importlib-metadata>=4.4 in /home/gitpod/.pyenv/versions/3.8.13/lib/python3.8/site-packages (from markdown>=2.6.8->tensorboard<2.10,>=2.9->tensorflow) (4.12.0)\n",
                        "Requirement already satisfied: idna<4,>=2.5 in /home/gitpod/.pyenv/versions/3.8.13/lib/python3.8/site-packages (from requests<3,>=2.21.0->tensorboard<2.10,>=2.9->tensorflow) (3.3)\n",
                        "Requirement already satisfied: charset-normalizer~=2.0.0 in /home/gitpod/.pyenv/versions/3.8.13/lib/python3.8/site-packages (from requests<3,>=2.21.0->tensorboard<2.10,>=2.9->tensorflow) (2.0.12)\n",
                        "Requirement already satisfied: certifi>=2017.4.17 in /home/gitpod/.pyenv/versions/3.8.13/lib/python3.8/site-packages (from requests<3,>=2.21.0->tensorboard<2.10,>=2.9->tensorflow) (2022.6.15)\n",
                        "Requirement already satisfied: urllib3<1.27,>=1.21.1 in /home/gitpod/.pyenv/versions/3.8.13/lib/python3.8/site-packages (from requests<3,>=2.21.0->tensorboard<2.10,>=2.9->tensorflow) (1.26.11)\n",
                        "Requirement already satisfied: MarkupSafe>=2.1.1 in /home/gitpod/.pyenv/versions/3.8.13/lib/python3.8/site-packages (from werkzeug>=1.0.1->tensorboard<2.10,>=2.9->tensorflow) (2.1.1)\n",
                        "Requirement already satisfied: zipp>=0.5 in /home/gitpod/.pyenv/versions/3.8.13/lib/python3.8/site-packages (from importlib-metadata>=4.4->markdown>=2.6.8->tensorboard<2.10,>=2.9->tensorflow) (3.8.1)\n",
                        "Requirement already satisfied: pyasn1<0.5.0,>=0.4.6 in /home/gitpod/.pyenv/versions/3.8.13/lib/python3.8/site-packages (from pyasn1-modules>=0.2.1->google-auth<3,>=1.6.3->tensorboard<2.10,>=2.9->tensorflow) (0.4.8)\n",
                        "Requirement already satisfied: oauthlib>=3.0.0 in /home/gitpod/.pyenv/versions/3.8.13/lib/python3.8/site-packages (from requests-oauthlib>=0.7.0->google-auth-oauthlib<0.5,>=0.4.1->tensorboard<2.10,>=2.9->tensorflow) (3.2.0)\n",
                        "\n",
                        "\u001b[1m[\u001b[0m\u001b[34;49mnotice\u001b[0m\u001b[1;39;49m]\u001b[0m\u001b[39;49m A new release of pip available: \u001b[0m\u001b[31;49m22.2\u001b[0m\u001b[39;49m -> \u001b[0m\u001b[32;49m22.2.2\u001b[0m\n",
                        "\u001b[1m[\u001b[0m\u001b[34;49mnotice\u001b[0m\u001b[1;39;49m]\u001b[0m\u001b[39;49m To update, run: \u001b[0m\u001b[32;49mpip install --upgrade pip\u001b[0m\n",
                        "Requirement already satisfied: matplotlib in /home/gitpod/.pyenv/versions/3.8.13/lib/python3.8/site-packages (3.5.2)\n",
                        "Requirement already satisfied: pyparsing>=2.2.1 in /home/gitpod/.pyenv/versions/3.8.13/lib/python3.8/site-packages (from matplotlib) (3.0.9)\n",
                        "Requirement already satisfied: kiwisolver>=1.0.1 in /home/gitpod/.pyenv/versions/3.8.13/lib/python3.8/site-packages (from matplotlib) (1.4.4)\n",
                        "Requirement already satisfied: python-dateutil>=2.7 in /home/gitpod/.pyenv/versions/3.8.13/lib/python3.8/site-packages (from matplotlib) (2.8.2)\n",
                        "Requirement already satisfied: pillow>=6.2.0 in /home/gitpod/.pyenv/versions/3.8.13/lib/python3.8/site-packages (from matplotlib) (9.2.0)\n",
                        "Requirement already satisfied: fonttools>=4.22.0 in /home/gitpod/.pyenv/versions/3.8.13/lib/python3.8/site-packages (from matplotlib) (4.34.4)\n",
                        "Requirement already satisfied: cycler>=0.10 in /home/gitpod/.pyenv/versions/3.8.13/lib/python3.8/site-packages (from matplotlib) (0.11.0)\n",
                        "Requirement already satisfied: numpy>=1.17 in /home/gitpod/.pyenv/versions/3.8.13/lib/python3.8/site-packages (from matplotlib) (1.23.1)\n",
                        "Requirement already satisfied: packaging>=20.0 in /home/gitpod/.pyenv/versions/3.8.13/lib/python3.8/site-packages (from matplotlib) (21.3)\n",
                        "Requirement already satisfied: six>=1.5 in /home/gitpod/.pyenv/versions/3.8.13/lib/python3.8/site-packages (from python-dateutil>=2.7->matplotlib) (1.16.0)\n",
                        "\n",
                        "\u001b[1m[\u001b[0m\u001b[34;49mnotice\u001b[0m\u001b[1;39;49m]\u001b[0m\u001b[39;49m A new release of pip available: \u001b[0m\u001b[31;49m22.2\u001b[0m\u001b[39;49m -> \u001b[0m\u001b[32;49m22.2.2\u001b[0m\n",
                        "\u001b[1m[\u001b[0m\u001b[34;49mnotice\u001b[0m\u001b[1;39;49m]\u001b[0m\u001b[39;49m To update, run: \u001b[0m\u001b[32;49mpip install --upgrade pip\u001b[0m\n"
                    ]
                }
            ],
            "source": [
                "%pip install -r ../requirements.txt\n",
                "!pip install scipy tensorflow\n",
                "!pip install matplotlib"
            ]
        },
        {
            "cell_type": "markdown",
            "metadata": {},
            "source": [
                "***Step 2***"
            ]
        },
        {
            "cell_type": "markdown",
            "metadata": {},
            "source": [
                "# importar librerias:\n",
                "from tensorflow import keras\n",
                "import keras,os\n",
                "from keras.models import Sequential\n",
                "from keras.layers import Dense, Conv2D, MaxPool2D , Flatten\n",
                "from keras.preprocessing.image import ImageDataGenerator\n",
                "import numpy as np\n",
                "from matplotlib import pyplot\n",
                "from matplotlib.image import imread"
            ]
        },
        {
            "cell_type": "code",
            "execution_count": 5,
            "metadata": {},
            "outputs": [
                {
                    "name": "stderr",
                    "output_type": "stream",
                    "text": [
                        "2022-08-07 19:05:54.922383: W tensorflow/stream_executor/platform/default/dso_loader.cc:64] Could not load dynamic library 'libcudart.so.11.0'; dlerror: libcudart.so.11.0: cannot open shared object file: No such file or directory\n",
                        "2022-08-07 19:05:54.922432: I tensorflow/stream_executor/cuda/cudart_stub.cc:29] Ignore above cudart dlerror if you do not have a GPU set up on your machine.\n"
                    ]
                }
            ],
            "source": [
                "# importar librerias:\n",
                "from tensorflow import keras\n",
                "import keras,os\n",
                "from keras.models import Sequential\n",
                "from keras.layers import Dense, Conv2D, MaxPool2D , Flatten\n",
                "from keras.preprocessing.image import ImageDataGenerator\n",
                "import numpy as np\n",
                "from matplotlib import pyplot\n",
                "from matplotlib.image import imread"
            ]
        },
        {
            "cell_type": "code",
            "execution_count": 2,
            "metadata": {},
            "outputs": [],
            "source": [
                "# esto es para cargar el zip pero yo lo arme como Sub_train y Sub_test\n",
                "#import shutil\n",
                "\n",
                "#filename = \"../data/raw/test1.zip\"\n",
                "#filename1 = \"../data/raw/train.zip\"\n",
                "#extract_dir = \"../data/raw/test1\"\n",
                "#extract_dir1 = \"../data/raw/train\"\n",
                "#archive_format = \"zip\"\n",
                "\n",
                "# Unpack the archive file\n",
                "#shutil.unpack_archive(filename, extract_dir, archive_format)\n",
                "#shutil.unpack_archive(filename1, extract_dir1, archive_format)"
            ]
        },
        {
            "cell_type": "markdown",
            "metadata": {},
            "source": [
                "***Step3***"
            ]
        },
        {
            "cell_type": "code",
            "execution_count": 6,
            "metadata": {},
            "outputs": [
                {
                    "ename": "FileNotFoundError",
                    "evalue": "[Errno 2] No such file or directory: '../data/raw/train/sub_train/cat/cat.11.jpg'",
                    "output_type": "error",
                    "traceback": [
                        "\u001b[0;31m---------------------------------------------------------------------------\u001b[0m",
                        "\u001b[0;31mFileNotFoundError\u001b[0m                         Traceback (most recent call last)",
                        "\u001b[1;32m/workspace/Image-Classifier-Project-Tutorial/src/explore.ipynb Cell 8\u001b[0m in \u001b[0;36m<cell line: 7>\u001b[0;34m()\u001b[0m\n\u001b[1;32m     <a href='vscode-notebook-cell://luisoliari-imageclassif-mgbjt3o6yw1.ws-us59.gitpod.io/workspace/Image-Classifier-Project-Tutorial/src/explore.ipynb#X14sdnNjb2RlLXJlbW90ZQ%3D%3D?line=10'>11</a>\u001b[0m filename \u001b[39m=\u001b[39m folder \u001b[39m+\u001b[39m \u001b[39m'\u001b[39m\u001b[39mcat.\u001b[39m\u001b[39m'\u001b[39m \u001b[39m+\u001b[39m \u001b[39mstr\u001b[39m(i) \u001b[39m+\u001b[39m \u001b[39m'\u001b[39m\u001b[39m.jpg\u001b[39m\u001b[39m'\u001b[39m\n\u001b[1;32m     <a href='vscode-notebook-cell://luisoliari-imageclassif-mgbjt3o6yw1.ws-us59.gitpod.io/workspace/Image-Classifier-Project-Tutorial/src/explore.ipynb#X14sdnNjb2RlLXJlbW90ZQ%3D%3D?line=11'>12</a>\u001b[0m \u001b[39m# load image pixels\u001b[39;00m\n\u001b[0;32m---> <a href='vscode-notebook-cell://luisoliari-imageclassif-mgbjt3o6yw1.ws-us59.gitpod.io/workspace/Image-Classifier-Project-Tutorial/src/explore.ipynb#X14sdnNjb2RlLXJlbW90ZQ%3D%3D?line=12'>13</a>\u001b[0m image \u001b[39m=\u001b[39m imread(filename)\n\u001b[1;32m     <a href='vscode-notebook-cell://luisoliari-imageclassif-mgbjt3o6yw1.ws-us59.gitpod.io/workspace/Image-Classifier-Project-Tutorial/src/explore.ipynb#X14sdnNjb2RlLXJlbW90ZQ%3D%3D?line=13'>14</a>\u001b[0m \u001b[39m# plot raw pixel data\u001b[39;00m\n\u001b[1;32m     <a href='vscode-notebook-cell://luisoliari-imageclassif-mgbjt3o6yw1.ws-us59.gitpod.io/workspace/Image-Classifier-Project-Tutorial/src/explore.ipynb#X14sdnNjb2RlLXJlbW90ZQ%3D%3D?line=14'>15</a>\u001b[0m pyplot\u001b[39m.\u001b[39mimshow(image)\n",
                        "File \u001b[0;32m~/.pyenv/versions/3.8.13/lib/python3.8/site-packages/matplotlib/image.py:1560\u001b[0m, in \u001b[0;36mimread\u001b[0;34m(fname, format)\u001b[0m\n\u001b[1;32m   1558\u001b[0m                 response \u001b[39m=\u001b[39m io\u001b[39m.\u001b[39mBytesIO(response\u001b[39m.\u001b[39mread())\n\u001b[1;32m   1559\u001b[0m             \u001b[39mreturn\u001b[39;00m imread(response, \u001b[39mformat\u001b[39m\u001b[39m=\u001b[39mext)\n\u001b[0;32m-> 1560\u001b[0m \u001b[39mwith\u001b[39;00m img_open(fname) \u001b[39mas\u001b[39;00m image:\n\u001b[1;32m   1561\u001b[0m     \u001b[39mreturn\u001b[39;00m (_pil_png_to_float_array(image)\n\u001b[1;32m   1562\u001b[0m             \u001b[39mif\u001b[39;00m \u001b[39misinstance\u001b[39m(image, PIL\u001b[39m.\u001b[39mPngImagePlugin\u001b[39m.\u001b[39mPngImageFile) \u001b[39melse\u001b[39;00m\n\u001b[1;32m   1563\u001b[0m             pil_to_array(image))\n",
                        "File \u001b[0;32m~/.pyenv/versions/3.8.13/lib/python3.8/site-packages/PIL/Image.py:3092\u001b[0m, in \u001b[0;36mopen\u001b[0;34m(fp, mode, formats)\u001b[0m\n\u001b[1;32m   3089\u001b[0m     filename \u001b[39m=\u001b[39m fp\n\u001b[1;32m   3091\u001b[0m \u001b[39mif\u001b[39;00m filename:\n\u001b[0;32m-> 3092\u001b[0m     fp \u001b[39m=\u001b[39m builtins\u001b[39m.\u001b[39;49mopen(filename, \u001b[39m\"\u001b[39;49m\u001b[39mrb\u001b[39;49m\u001b[39m\"\u001b[39;49m)\n\u001b[1;32m   3093\u001b[0m     exclusive_fp \u001b[39m=\u001b[39m \u001b[39mTrue\u001b[39;00m\n\u001b[1;32m   3095\u001b[0m \u001b[39mtry\u001b[39;00m:\n",
                        "\u001b[0;31mFileNotFoundError\u001b[0m: [Errno 2] No such file or directory: '../data/raw/train/sub_train/cat/cat.11.jpg'"
                    ]
                },
                {
                    "data": {
                        "image/png": "[encoded data removed]",
                        "text/plain": [
                            "<Figure size 432x288 with 1 Axes>"
                        ]
                    },
                    "metadata": {
                        "needs_background": "light"
                    },
                    "output_type": "display_data"
                }
            ],
            "source": [
                "# plot cat photos from the dogs vs cats dataset\n",
                "# define location of dataset\n",
                "folder = \"../data/raw/train/sub_train/cat/\"\n",
                "#extract_dir1 = \"../data/raw/test\"\n",
                "#folder = 'train/'\n",
                "# plot first few images\n",
                "for i in range(11,20):\n",
                "# define subplot\n",
                "    pyplot.subplot(330 + 1 + i-11)\n",
                "    # define filename\n",
                "    filename = folder + 'cat.' + str(i) + '.jpg'\n",
                "    # load image pixels\n",
                "    image = imread(filename)\n",
                "    # plot raw pixel data\n",
                "    pyplot.imshow(image)\n",
                "    # show the figure\n",
                "    pyplot.show()"
            ]
        },
        {
            "cell_type": "code",
            "execution_count": null,
            "metadata": {},
            "outputs": [],
            "source": [
                "# plot dog photos from the dogs vs cats dataset\n",
                "# define location of dataset\n",
                "folder = \"../data/raw/train/sub_train/dog/\"\n",
                "#extract_dir1 = \"../data/raw/test\"\n",
                "#folder = 'train/'\n",
                "# plot first few images\n",
                "for i in range(0,9):\n",
                "# define subplot\n",
                "    pyplot.subplot(330 + 1 + i)\n",
                "    # define filename\n",
                "    filename = folder + 'dog.' + str(i) + '.jpg'\n",
                "    # load image pixels\n",
                "    image = imread(filename)\n",
                "    # plot raw pixel data\n",
                "    pyplot.imshow(image)\n",
                "    # show the figure\n",
                "    pyplot.show()"
            ]
        },
        {
            "cell_type": "markdown",
            "metadata": {},
            "source": [
                "***Step4***"
            ]
        },
        {
            "cell_type": "code",
            "execution_count": null,
            "metadata": {},
            "outputs": [],
            "source": [
                "# Use the ImageDataGenerator to load the data\n",
                "\n",
                "trdata = ImageDataGenerator()\n",
                "traindata = trdata.flow_from_directory(directory=\"../data/raw/train/sub_train/\",target_size=(224,224))\n",
                "tsdata = ImageDataGenerator()\n",
                "testdata = tsdata.flow_from_directory(directory=\"../data/raw/train/sub_test/\", target_size=(224,224))"
            ]
        },
        {
            "cell_type": "markdown",
            "metadata": {},
            "source": [
                "***Step5***"
            ]
        },
        {
            "cell_type": "code",
            "execution_count": null,
            "metadata": {},
            "outputs": [],
            "source": [
                "# pasar la data por la red neuronal\n",
                "model = Sequential()\n",
                "model.add(Conv2D(input_shape=(224,224,3),filters=64,kernel_size=(3,3),padding=\"same\", activation=\"relu\"))\n",
                "model.add(Conv2D(filters=64,kernel_size=(3,3),padding=\"same\", activation=\"relu\"))\n",
                "model.add(MaxPool2D(pool_size=(2,2),strides=(2,2)))\n",
                "model.add(Conv2D(filters=128, kernel_size=(3,3), padding=\"same\", activation=\"relu\"))\n",
                "model.add(Conv2D(filters=128, kernel_size=(3,3), padding=\"same\", activation=\"relu\"))\n",
                "model.add(MaxPool2D(pool_size=(2,2),strides=(2,2)))\n",
                "model.add(Conv2D(filters=256, kernel_size=(3,3), padding=\"same\", activation=\"relu\"))\n",
                "model.add(Conv2D(filters=256, kernel_size=(3,3), padding=\"same\", activation=\"relu\"))\n",
                "model.add(Conv2D(filters=256, kernel_size=(3,3), padding=\"same\", activation=\"relu\"))\n",
                "model.add(MaxPool2D(pool_size=(2,2),strides=(2,2)))\n",
                "model.add(Conv2D(filters=512, kernel_size=(3,3), padding=\"same\", activation=\"relu\"))\n",
                "model.add(Conv2D(filters=512, kernel_size=(3,3), padding=\"same\", activation=\"relu\"))\n",
                "model.add(Conv2D(filters=512, kernel_size=(3,3), padding=\"same\", activation=\"relu\"))\n",
                "model.add(MaxPool2D(pool_size=(2,2),strides=(2,2)))\n",
                "model.add(Conv2D(filters=512, kernel_size=(3,3), padding=\"same\", activation=\"relu\"))\n",
                "model.add(Conv2D(filters=512, kernel_size=(3,3), padding=\"same\", activation=\"relu\"))\n",
                "model.add(Conv2D(filters=512, kernel_size=(3,3), padding=\"same\", activation=\"relu\"))\n",
                "model.add(MaxPool2D(pool_size=(2,2),strides=(2,2)))"
            ]
        },
        {
            "cell_type": "markdown",
            "metadata": {},
            "source": [
                "***Step6***"
            ]
        },
        {
            "cell_type": "code",
            "execution_count": null,
            "metadata": {},
            "outputs": [],
            "source": [
                "# Pasar la data por la capa densa \n",
                "model.add(Flatten())\n",
                "model.add(Dense(units=4096,activation=\"relu\"))\n",
                "model.add(Dense(units=4096,activation=\"relu\"))\n",
                "model.add(Dense(units=2, activation=\"softmax\"))"
            ]
        },
        {
            "cell_type": "markdown",
            "metadata": {},
            "source": [
                "***Step7***"
            ]
        },
        {
            "cell_type": "code",
            "execution_count": null,
            "metadata": {},
            "outputs": [],
            "source": [
                "# compilar el modelo:\n",
                "from keras.optimizers import Adam\n",
                "opt = Adam(lr=0.001)\n",
                "model.compile(optimizer=opt, loss=keras.losses.categorical_crossentropy, metrics=['accuracy'])"
            ]
        },
        {
            "cell_type": "markdown",
            "metadata": {},
            "source": [
                "***Step8***"
            ]
        },
        {
            "cell_type": "code",
            "execution_count": null,
            "metadata": {},
            "outputs": [],
            "source": [
                "# obtener el resumen del modelo:\n",
                "model.summary()"
            ]
        },
        {
            "cell_type": "markdown",
            "metadata": {},
            "source": [
                "***Step9***"
            ]
        },
        {
            "cell_type": "code",
            "execution_count": null,
            "metadata": {},
            "outputs": [],
            "source": [
                "# Create objects for ModelCheckpoint and EarlyStopping, and pass them as callback functions to fit_generator\n",
                "from keras.callbacks import ModelCheckpoint, EarlyStopping\n",
                "checkpoint = ModelCheckpoint(\"vgg16_1.h5\", monitor='val_acc', verbose=1, save_best_only=True, save_weights_only=False, mode='auto', period=1)\n",
                "early = EarlyStopping(monitor='val_acc', min_delta=0, patience=20, verbose=1, mode='auto')\n",
                "hist = model.fit_generator(steps_per_epoch=100,generator=traindata, validation_data= testdata, validation_steps=10,epochs=100,callbacks=[checkpoint,early])\n"
            ]
        }
    ],
    "metadata": {
        "kernelspec": {
            "display_name": "Python 3.8.13 64-bit ('3.8.13')",
            "language": "python",
            "name": "python3"
        },
        "language_info": {
            "codemirror_mode": {
                "name": "ipython",
                "version": 3
            },
            "file_extension": ".py",
            "mimetype": "text/x-python",
            "name": "python",
            "nbconvert_exporter": "python",
            "pygments_lexer": "ipython3",
            "version": "3.8.13"
        },
        "orig_nbformat": 4,
        "vscode": {
            "interpreter": {
                "hash": "110cc1dee26208153f2972f08a2ad52b6a56238dc66d48e87fb757ef2996db56"
            }
        }
    },
    "nbformat": 4,
    "nbformat_minor": 2
}
